{
  "nbformat": 4,
  "nbformat_minor": 0,
  "metadata": {
    "colab": {
      "name": "Untitled0.ipynb",
      "version": "0.3.2",
      "provenance": [],
      "include_colab_link": true
    },
    "kernelspec": {
      "name": "python3",
      "display_name": "Python 3"
    }
  },
  "cells": [
    {
      "cell_type": "markdown",
      "metadata": {
        "id": "view-in-github",
        "colab_type": "text"
      },
      "source": [
        "<a href=\"https://colab.research.google.com/github/AkiMosi/Greyscale-to-Black-And-White/blob/master/tut.ipynb\" target=\"_parent\"><img src=\"https://colab.research.google.com/assets/colab-badge.svg\" alt=\"Open In Colab\"/></a>"
      ]
    },
    {
      "cell_type": "code",
      "metadata": {
        "id": "qfdq-xDtpuJP",
        "colab_type": "code",
        "colab": {
          "base_uri": "https://localhost:8080/",
          "height": 54
        },
        "outputId": "d217a947-bc89-4725-c7c5-1a4af78da48c"
      },
      "source": [
        "from itertools import combinations as comb\n",
        "from itertools import permutations as perm\n",
        "c = list(perm([0,1,2,3,4,5,6],3))\n",
        "a=list()\n",
        "\n",
        "for i in range(len(c)):\n",
        "  summ=0\n",
        "  for j in range(len(c[i])):\n",
        "    summ+=c[i][j]\n",
        "  if(summ==6):\n",
        "    a.append(c[i])\n",
        "print(a)"
      ],
      "execution_count": 19,
      "outputs": [
        {
          "output_type": "stream",
          "text": [
            "[(0, 1, 5), (0, 2, 4), (0, 4, 2), (0, 5, 1), (1, 0, 5), (1, 2, 3), (1, 3, 2), (1, 5, 0), (2, 0, 4), (2, 1, 3), (2, 3, 1), (2, 4, 0), (3, 1, 2), (3, 2, 1), (4, 0, 2), (4, 2, 0), (5, 0, 1), (5, 1, 0)]\n"
          ],
          "name": "stdout"
        }
      ]
    },
    {
      "cell_type": "code",
      "metadata": {
        "id": "MBRG5wWormmk",
        "colab_type": "code",
        "colab": {
          "base_uri": "https://localhost:8080/",
          "height": 180
        },
        "outputId": "cf8f9846-376a-49b9-9aa5-e0539fcd118f"
      },
      "source": [
        ""
      ],
      "execution_count": 16,
      "outputs": [
        {
          "output_type": "error",
          "ename": "IndexError",
          "evalue": "ignored",
          "traceback": [
            "\u001b[0;31m---------------------------------------------------------------------------\u001b[0m",
            "\u001b[0;31mIndexError\u001b[0m                                Traceback (most recent call last)",
            "\u001b[0;32m<ipython-input-16-cff8f799e185>\u001b[0m in \u001b[0;36m<module>\u001b[0;34m()\u001b[0m\n\u001b[0;32m----> 1\u001b[0;31m c[209][2\n\u001b[0m\u001b[1;32m      2\u001b[0m       ]\n",
            "\u001b[0;31mIndexError\u001b[0m: list index out of range"
          ]
        }
      ]
    },
    {
      "cell_type": "code",
      "metadata": {
        "id": "KbFwQrqvsRbR",
        "colab_type": "code",
        "colab": {
          "base_uri": "https://localhost:8080/",
          "height": 34
        },
        "outputId": "5d549cf9-e63f-43df-e753-26a4fc29dac8"
      },
      "source": [
        "len(c)"
      ],
      "execution_count": 17,
      "outputs": [
        {
          "output_type": "execute_result",
          "data": {
            "text/plain": [
              "110"
            ]
          },
          "metadata": {
            "tags": []
          },
          "execution_count": 17
        }
      ]
    },
    {
      "cell_type": "code",
      "metadata": {
        "id": "iZKWAVn6sdOR",
        "colab_type": "code",
        "colab": {}
      },
      "source": [
        ""
      ],
      "execution_count": 0,
      "outputs": []
    }
  ]
}